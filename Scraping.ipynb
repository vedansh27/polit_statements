{
 "cells": [
  {
   "cell_type": "code",
   "execution_count": 1,
   "id": "1698c4d4",
   "metadata": {},
   "outputs": [
    {
     "name": "stdout",
     "output_type": "stream",
     "text": [
      "Requirement already satisfied: selenium in c:\\users\\vedan\\anaconda3\\lib\\site-packages (4.4.3)\n",
      "Requirement already satisfied: trio~=0.17 in c:\\users\\vedan\\anaconda3\\lib\\site-packages (from selenium) (0.21.0)\n",
      "Requirement already satisfied: trio-websocket~=0.9 in c:\\users\\vedan\\anaconda3\\lib\\site-packages (from selenium) (0.9.2)\n",
      "Requirement already satisfied: urllib3[socks]~=1.26 in c:\\users\\vedan\\anaconda3\\lib\\site-packages (from selenium) (1.26.9)\n",
      "Requirement already satisfied: certifi>=2021.10.8 in c:\\users\\vedan\\anaconda3\\lib\\site-packages (from selenium) (2021.10.8)\n",
      "Requirement already satisfied: outcome in c:\\users\\vedan\\anaconda3\\lib\\site-packages (from trio~=0.17->selenium) (1.2.0)\n",
      "Requirement already satisfied: sortedcontainers in c:\\users\\vedan\\anaconda3\\lib\\site-packages (from trio~=0.17->selenium) (2.4.0)\n",
      "Requirement already satisfied: cffi>=1.14 in c:\\users\\vedan\\anaconda3\\lib\\site-packages (from trio~=0.17->selenium) (1.15.0)\n",
      "Requirement already satisfied: idna in c:\\users\\vedan\\anaconda3\\lib\\site-packages (from trio~=0.17->selenium) (3.3)\n",
      "Requirement already satisfied: async-generator>=1.9 in c:\\users\\vedan\\anaconda3\\lib\\site-packages (from trio~=0.17->selenium) (1.10)\n",
      "Requirement already satisfied: sniffio in c:\\users\\vedan\\anaconda3\\lib\\site-packages (from trio~=0.17->selenium) (1.2.0)\n",
      "Requirement already satisfied: attrs>=19.2.0 in c:\\users\\vedan\\anaconda3\\lib\\site-packages (from trio~=0.17->selenium) (21.4.0)\n",
      "Requirement already satisfied: pycparser in c:\\users\\vedan\\anaconda3\\lib\\site-packages (from cffi>=1.14->trio~=0.17->selenium) (2.21)\n",
      "Requirement already satisfied: wsproto>=0.14 in c:\\users\\vedan\\anaconda3\\lib\\site-packages (from trio-websocket~=0.9->selenium) (1.1.0)\n",
      "Requirement already satisfied: PySocks!=1.5.7,<2.0,>=1.5.6 in c:\\users\\vedan\\anaconda3\\lib\\site-packages (from urllib3[socks]~=1.26->selenium) (1.7.1)\n",
      "Requirement already satisfied: h11<1,>=0.9.0 in c:\\users\\vedan\\anaconda3\\lib\\site-packages (from wsproto>=0.14->trio-websocket~=0.9->selenium) (0.13.0)\n",
      "Requirement already satisfied: webdriver-manager in c:\\users\\vedan\\anaconda3\\lib\\site-packages (3.8.3)\n",
      "Requirement already satisfied: requests in c:\\users\\vedan\\anaconda3\\lib\\site-packages (from webdriver-manager) (2.27.1)\n",
      "Requirement already satisfied: python-dotenv in c:\\users\\vedan\\anaconda3\\lib\\site-packages (from webdriver-manager) (0.20.0)\n",
      "Requirement already satisfied: tqdm in c:\\users\\vedan\\anaconda3\\lib\\site-packages (from webdriver-manager) (4.64.0)\n",
      "Requirement already satisfied: charset-normalizer~=2.0.0 in c:\\users\\vedan\\anaconda3\\lib\\site-packages (from requests->webdriver-manager) (2.0.4)\n",
      "Requirement already satisfied: idna<4,>=2.5 in c:\\users\\vedan\\anaconda3\\lib\\site-packages (from requests->webdriver-manager) (3.3)\n",
      "Requirement already satisfied: urllib3<1.27,>=1.21.1 in c:\\users\\vedan\\anaconda3\\lib\\site-packages (from requests->webdriver-manager) (1.26.9)\n",
      "Requirement already satisfied: certifi>=2017.4.17 in c:\\users\\vedan\\anaconda3\\lib\\site-packages (from requests->webdriver-manager) (2021.10.8)\n",
      "Requirement already satisfied: colorama in c:\\users\\vedan\\anaconda3\\lib\\site-packages (from tqdm->webdriver-manager) (0.4.4)\n"
     ]
    }
   ],
   "source": [
    "!pip3 install -U selenium\n",
    "!pip3 install webdriver-manager\n",
    "\n",
    "\n",
    "from selenium import webdriver\n",
    "from selenium.webdriver.support.ui import WebDriverWait\n",
    "from selenium.webdriver.support import expected_conditions as EC\n",
    "from selenium.webdriver.common.by import By\n",
    "import re, time,csv\n",
    "from selenium.common.exceptions import NoSuchElementException\n",
    "from selenium.webdriver.chrome.service import Service\n",
    "from webdriver_manager.chrome import ChromeDriverManager\n",
    "from selenium.common.exceptions import WebDriverException"
   ]
  },
  {
   "cell_type": "code",
   "execution_count": 2,
   "id": "757849c4",
   "metadata": {},
   "outputs": [],
   "source": [
    "def scrape(driver,url,outpath):\n",
    "\n",
    "    #open a new csv writer\n",
    "    fw=open(outpath,'w',encoding='utf8')\n",
    "    writer=csv.writer(fw,lineterminator='\\n')\n",
    "    writer.writerow(['Date','Platform','Text','Person','Truthfulness'])\n",
    "    \n",
    "    driver.get(url) # visits the reviews url for the given product\n",
    "    \n",
    "    while True: # keep going until there are no more review pages\n",
    "    \n",
    "        \n",
    "\n",
    "\n",
    "        reviews=driver.find_elements(by=By.CSS_SELECTOR, value='[class=\"o-listicle__item\"]')\n",
    "\n",
    "\n",
    "        for review in reviews: \n",
    "            \n",
    "            Date, Platform, Text, Person, Truthfulness='NA','NA','NA','NA','NA'\n",
    "#----------------------------------------------------------------------------------------------------------------------------  \n",
    "#To find truthfulness\n",
    "            img=review.find_elements(by=By.CSS_SELECTOR,value='img[class=\"c-image__thumb\"]' )[1] \n",
    "            meter=img.get_attribute('alt')\n",
    "            Truthfulness=meter\n",
    "#----------------------------------------------------------------------------------------------------------------------------\n",
    "            try: # try to find Date\n",
    "                DateBox=review.find_element(by=By.CSS_SELECTOR, value='[class=\"m-statement__desc\"]')\n",
    "            except NoSuchElementException:\n",
    "                DateBox=None\n",
    "                \n",
    "            #box found\n",
    "            if DateBox:\n",
    "                DateInfo=DateBox.get_attribute('innerHTML') # get the text of class attribute\n",
    "\n",
    "                arr=DateInfo.split(\" \")\n",
    "\n",
    "                finalDate=\"\"\n",
    "                  \n",
    "                if arr!=None:\n",
    "                 finalDate=arr[2]+\" \"+arr[3]+arr[4]# extract rotten or fresh\n",
    "                 if finalDate[len(finalDate)-1]==':':\n",
    "                       finalDate=finalDate.rstrip(finalDate[-1]) \n",
    "                 Date=finalDate\n",
    "                if arr!=None and len(arr)>5:\n",
    "                    i=5\n",
    "                    finalPlatform=\"\"\n",
    "                    while i < len(arr):\n",
    "                       if arr[i]!='in' and arr[i]!=\"an\" and arr[i]!=\"a\":\n",
    "                        finalPlatform+=arr[i]+\" \"\n",
    "                       i+=1\n",
    "                    Platform=finalPlatform\n",
    "                        \n",
    "\n",
    "#----------------------------------------------------------------------------------------------------------------------------- \n",
    "#-----------------------------------------------------------------------------------------------------------------------------\n",
    "#For extracting Text\n",
    "\n",
    "            try: # try to find the review article\n",
    "                TextBox=review.find_element(by=By.CSS_SELECTOR, value='[class=\"m-statement__quote\"]')\n",
    "            except:\n",
    "                TextBox=None\n",
    "                \n",
    "            #box found, extract text\n",
    "            if TextBox: Text=TextBox.text\n",
    "#----------------------------------------------------------------------------------------------------------------------------- \n",
    "#For extracting Name\n",
    "\n",
    "            try: # try to find the review article\n",
    "                PersonBox=review.find_element(by=By.CSS_SELECTOR, value='[class=\"m-statement__name\"]')\n",
    "            except:\n",
    "                PersonBox=None\n",
    "                \n",
    "            #box found, extract text\n",
    "            if PersonBox: Person=PersonBox.text\n",
    "            \n",
    "\n",
    "            \n",
    "#------------------------------------------------------------------------------------------------------------------------------                \n",
    "            writer.writerow([Date,Platform,Text,Person,Truthfulness])\n",
    "#------------------------------------------------------------------------------------------------------------------------------\n",
    "\n",
    "\n",
    "\n",
    "        button1=WebDriverWait(driver,5).until(EC.element_to_be_clickable((By.XPATH,'//a[text()=\"Next\"]')))\n",
    "        \n",
    "        \n",
    "        if '?page=202&category=truth-o-meter' in button1.get_attribute('href'): # final page reached, 'next' button is disabled on this page\n",
    "            break\n",
    "        driver.execute_script(\"arguments[0].click();\", button1) \n",
    "        \n",
    "      \n",
    "        \n",
    "        time.sleep(3)\n",
    "    \n",
    "    fw.close()\n",
    "    \n",
    "\n",
    "    "
   ]
  },
  {
   "cell_type": "code",
   "execution_count": 3,
   "id": "8c8b1936",
   "metadata": {},
   "outputs": [],
   "source": [
    "driver = webdriver.Chrome(service=Service(ChromeDriverManager().install()))"
   ]
  },
  {
   "cell_type": "code",
   "execution_count": 4,
   "id": "ad0c8f66",
   "metadata": {},
   "outputs": [],
   "source": [
    "driver.maximize_window()"
   ]
  },
  {
   "cell_type": "code",
   "execution_count": 5,
   "id": "a8198297",
   "metadata": {},
   "outputs": [],
   "source": [
    "\n",
    "url='https://www.politifact.com/factchecks/list/?category=truth-o-meter'\n",
    "outpath='data.csv'"
   ]
  },
  {
   "cell_type": "code",
   "execution_count": 6,
   "id": "c07b4738",
   "metadata": {},
   "outputs": [
    {
     "name": "stderr",
     "output_type": "stream",
     "text": [
      "\n",
      "KeyboardInterrupt\n",
      "\n"
     ]
    }
   ],
   "source": [
    "scrape(driver,url,outpath)"
   ]
  }
 ],
 "metadata": {
  "kernelspec": {
   "display_name": "Python 3 (ipykernel)",
   "language": "python",
   "name": "python3"
  },
  "language_info": {
   "codemirror_mode": {
    "name": "ipython",
    "version": 3
   },
   "file_extension": ".py",
   "mimetype": "text/x-python",
   "name": "python",
   "nbconvert_exporter": "python",
   "pygments_lexer": "ipython3",
   "version": "3.9.12"
  }
 },
 "nbformat": 4,
 "nbformat_minor": 5
}
